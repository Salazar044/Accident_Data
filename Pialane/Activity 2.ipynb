{
 "cells": [
  {
   "cell_type": "markdown",
   "id": "8be3f932-9797-44a2-b760-f9daca7af6e8",
   "metadata": {},
   "source": [
    "<h1>PIALANE, ELVIRA J.</h1>\n",
    "<h3>BSIT-3A</h3>\n",
    "<h3>ACTIVITY 2</h3>\n",
    "<HR></HR>"
   ]
  },
  {
   "cell_type": "code",
   "execution_count": 1,
   "id": "2f93a130-3326-4ac4-b01b-58f0770d49eb",
   "metadata": {},
   "outputs": [],
   "source": [
    "import numpy as np\n",
    "import pandas as pd\n",
    "from scipy.stats import f_oneway "
   ]
  },
  {
   "cell_type": "code",
   "execution_count": 2,
   "id": "21e223dd-b3b0-4854-96cf-3646955dd662",
   "metadata": {},
   "outputs": [],
   "source": [
    "roads_accident = pd.read_csv(\"datasets\\\\uk_road_accident.csv\")"
   ]
  },
  {
   "cell_type": "markdown",
   "id": "8ac1d92f-bdf4-4f13-83a3-08e4d5578d58",
   "metadata": {},
   "source": [
    "<hr>"
   ]
  },
  {
   "cell_type": "markdown",
   "id": "c6aed6be-e67b-4fb7-a081-0ddf3773995c",
   "metadata": {},
   "source": [
    "<H1>1. What is the distribution of accident severity?</H1>"
   ]
  },
  {
   "cell_type": "code",
   "execution_count": 3,
   "id": "dd5c8c71-139e-486e-8a42-63de89bda5e7",
   "metadata": {},
   "outputs": [
    {
     "data": {
      "text/plain": [
       "Accident_Severity\n",
       "Slight     563801\n",
       "Serious     88217\n",
       "Fatal        8661\n",
       "Name: count, dtype: int64"
      ]
     },
     "execution_count": 3,
     "metadata": {},
     "output_type": "execute_result"
    }
   ],
   "source": [
    "roads_accident['Accident_Severity'].value_counts()"
   ]
  },
  {
   "cell_type": "markdown",
   "id": "34b59f0a-cbbb-4cf2-a1bc-6a074cb6e42f",
   "metadata": {},
   "source": [
    "<h3>Insight: most accidents are classed as Slight (563,801 cases), while Serious (88,217) and Fatal (8,661) accidents are much less common. This tells me that although road accidents happen a lot, they usually aren’t very severe.</h3>"
   ]
  },
  {
   "cell_type": "markdown",
   "id": "1ad549d4-579d-4e29-9d23-68a814b09c29",
   "metadata": {},
   "source": [
    "<h1>2. What are the top 5 most common road surface conditions during accidents?</h1>"
   ]
  },
  {
   "cell_type": "code",
   "execution_count": 4,
   "id": "1e7f47b2-9f91-4735-9773-3bd8b0e22641",
   "metadata": {},
   "outputs": [
    {
     "data": {
      "text/plain": [
       "Road_Surface_Conditions\n",
       "Dry                     447821\n",
       "Wet or damp             186708\n",
       "Frost or ice             18517\n",
       "Snow                      5890\n",
       "Flood over 3cm. deep      1017\n",
       "Name: count, dtype: int64"
      ]
     },
     "execution_count": 4,
     "metadata": {},
     "output_type": "execute_result"
    }
   ],
   "source": [
    "roads_accident['Road_Surface_Conditions'].value_counts()"
   ]
  },
  {
   "cell_type": "markdown",
   "id": "da5e54f0-cf8b-4690-8f82-1e5c06c29268",
   "metadata": {},
   "source": [
    "<h3>Insight: Most accidents happen on dry roads (447,821), followed by wet roads (186,788). Fewer accidents occur on icy (18,517), snowy (5,890), or flooded roads (1,817). This means accidents happen more often in normal road conditions, likely because more people are driving then.</h3>"
   ]
  },
  {
   "cell_type": "markdown",
   "id": "f0d5e9d5-e82a-44d8-b101-c6c325fd61ab",
   "metadata": {},
   "source": [
    "<h1>3.What are the most frequent weather conditions during accidents?</h1>"
   ]
  },
  {
   "cell_type": "code",
   "execution_count": 5,
   "id": "29ce3f2d-e3a1-4f4c-aeab-bcca055345f7",
   "metadata": {},
   "outputs": [
    {
     "data": {
      "text/plain": [
       "Weather_Conditions\n",
       "Fine no high winds       520885\n",
       "Raining no high winds     79696\n",
       "Other                     17150\n",
       "Raining + high winds       9615\n",
       "Fine + high winds          8554\n",
       "Snowing no high winds      6238\n",
       "Fog or mist                3528\n",
       "Snowing + high winds        885\n",
       "Name: count, dtype: int64"
      ]
     },
     "execution_count": 5,
     "metadata": {},
     "output_type": "execute_result"
    }
   ],
   "source": [
    "roads_accident['Weather_Conditions'].value_counts()"
   ]
  },
  {
   "cell_type": "markdown",
   "id": "8692fa86-1cb9-457e-b427-bc1b13185884",
   "metadata": {},
   "source": [
    "<h3>Insight: Most accidents happen in good weather (520,885). Even when it’s raining (79,696), fewer accidents occur. Very few accidents happen during snow, fog, or strong winds. This shows that bad weather isn’t the main cause, people still crash even when the weather is fine.</h3>"
   ]
  },
  {
   "cell_type": "markdown",
   "id": "74718e35-1110-4cb8-aebd-ac77f6417da4",
   "metadata": {},
   "source": [
    "<h1>4.What is the average number of casualties per accident?</h1>"
   ]
  },
  {
   "cell_type": "code",
   "execution_count": 6,
   "id": "e2551b1d-d2b5-4821-af92-e1af7232f637",
   "metadata": {},
   "outputs": [
    {
     "data": {
      "text/plain": [
       "1.357040257068864"
      ]
     },
     "execution_count": 6,
     "metadata": {},
     "output_type": "execute_result"
    }
   ],
   "source": [
    "roads_accident['Number_of_Casualties'].mean()"
   ]
  },
  {
   "cell_type": "markdown",
   "id": "269dc14a-95e3-413a-912b-4d2efd3bab00",
   "metadata": {},
   "source": [
    "<h3>Insight: On average, there are about 1.36 casualties per accident. This means that most accidents hurt only one or two people, not large groups.</h3>"
   ]
  },
  {
   "cell_type": "markdown",
   "id": "a6e55f47-bc03-4eed-857b-0df0d4b72605",
   "metadata": {},
   "source": [
    "<h1>5.What is the trend of accidents over the years?</h1>"
   ]
  },
  {
   "cell_type": "code",
   "execution_count": 7,
   "id": "9ef52a9e-3d5d-465f-a736-cde1e2ee5e31",
   "metadata": {},
   "outputs": [
    {
     "data": {
      "text/plain": [
       "Year\n",
       "2019.0    71867\n",
       "2020.0    70163\n",
       "2021.0    66172\n",
       "2022.0    56805\n",
       "dtype: int64"
      ]
     },
     "execution_count": 7,
     "metadata": {},
     "output_type": "execute_result"
    }
   ],
   "source": [
    "roads_accident['Accident_Date'] = pd.to_datetime(roads_accident['Accident Date'], errors='coerce')\n",
    "roads_accident['Year'] = roads_accident['Accident_Date'].dt.year\n",
    "roads_accident.groupby('Year').size()"
   ]
  },
  {
   "cell_type": "markdown",
   "id": "009d0c48-49b2-4fad-b08f-10373749185c",
   "metadata": {},
   "source": [
    "<h3>Insight: The number of accidents has been going down every year: from 71,867 in 2019 to 56,085 in 2022. This drop might be due to less travel, better roads, or safer driving</h3>"
   ]
  },
  {
   "cell_type": "markdown",
   "id": "f8c0e143-9650-4158-b756-ff2d19222730",
   "metadata": {},
   "source": [
    "<h1>6.Which day of the week has the most accidents?</h1>"
   ]
  },
  {
   "cell_type": "code",
   "execution_count": 8,
   "id": "6d70596e-098b-437e-a8e1-01a6e2d2e992",
   "metadata": {},
   "outputs": [
    {
     "data": {
      "text/plain": [
       "Day_of_Week\n",
       "Friday       38511\n",
       "Monday       35715\n",
       "Saturday     37751\n",
       "Sunday       37772\n",
       "Thursday     38009\n",
       "Tuesday      39701\n",
       "Wednesday    37548\n",
       "Name: count, dtype: int64"
      ]
     },
     "execution_count": 8,
     "metadata": {},
     "output_type": "execute_result"
    }
   ],
   "source": [
    "roads_accident['Day_of_Week'] = roads_accident['Accident_Date'].dt.day_name()\n",
    "roads_accident['Day_of_Week'].value_counts().sort_index()"
   ]
  },
  {
   "cell_type": "markdown",
   "id": "c07d5ea0-7e38-40b6-b612-d667b6cf441c",
   "metadata": {},
   "source": [
    "<h1>7.How many accidents occurred during daylight versus darkness?</h1>"
   ]
  },
  {
   "cell_type": "code",
   "execution_count": 9,
   "id": "21cb8643-af52-4782-9384-2a8a4e9918b1",
   "metadata": {},
   "outputs": [
    {
     "data": {
      "text/plain": [
       "Light_Conditions\n",
       "Daylight                       484880\n",
       "Darkness - lights lit          129335\n",
       "Darkness - no lighting          37437\n",
       "Darkness - lighting unknown      6484\n",
       "Darkness - lights unlit          2543\n",
       "Name: count, dtype: int64"
      ]
     },
     "execution_count": 9,
     "metadata": {},
     "output_type": "execute_result"
    }
   ],
   "source": [
    "roads_accident['Light_Conditions'].value_counts()"
   ]
  },
  {
   "cell_type": "markdown",
   "id": "c4f9c226-dc8a-42e4-85e0-da9b732fa9ee",
   "metadata": {},
   "source": [
    "<h3>Insight: Most accidents happened during the day (484,880). Fewer accidents happened at night with streetlights (129,335). This means more people crash during the day, likely because more people are on the road.</h3>"
   ]
  },
  {
   "cell_type": "markdown",
   "id": "69977557-b6b5-4c45-a339-d32e866f614c",
   "metadata": {},
   "source": [
    "<h1>8.What is the Pearson R Correlation between the number of casualties and the number of vehicles?</h1>"
   ]
  },
  {
   "cell_type": "code",
   "execution_count": 10,
   "id": "c75c2175-3bcc-46b4-87b3-68762afd61d0",
   "metadata": {},
   "outputs": [
    {
     "name": "stdout",
     "output_type": "stream",
     "text": [
      "PRC: 124644.0567\n",
      "P-value: 0.0000\n"
     ]
    }
   ],
   "source": [
    "correlation, p_value = f_oneway (roads_accident['Number_of_Casualties'], roads_accident['Number_of_Vehicles'])\n",
    "print(f\"PRC: {correlation:.4f}\")\n",
    "print(f\"P-value: {p_value:.4f}\")"
   ]
  },
  {
   "cell_type": "markdown",
   "id": "5b2dab11-ef7e-43e2-bab9-f8c9d53ffdc0",
   "metadata": {},
   "source": [
    "<h3>Insight: There is a strong link between the number of vehicles and the number of people hurt in accidents. More vehicles = more casualties. The p-value is 0, which means this result is statistically important.</h3>"
   ]
  },
  {
   "cell_type": "markdown",
   "id": "ef6929e3-66d3-40fc-af3c-546d11308353",
   "metadata": {},
   "source": [
    "<h1>9.How do casualties differ in urban vs. rural areas?</h1>"
   ]
  },
  {
   "cell_type": "code",
   "execution_count": 11,
   "id": "1c824066-286e-4031-aa5a-a6cbebd9f802",
   "metadata": {},
   "outputs": [
    {
     "data": {
      "text/plain": [
       "Urban_or_Rural_Area\n",
       "Rural          353515\n",
       "Unallocated        13\n",
       "Urban          543024\n",
       "Name: Number_of_Casualties, dtype: int64"
      ]
     },
     "execution_count": 11,
     "metadata": {},
     "output_type": "execute_result"
    }
   ],
   "source": [
    "roads_accident.groupby('Urban_or_Rural_Area')['Number_of_Casualties'].sum()"
   ]
  },
  {
   "cell_type": "markdown",
   "id": "c193fee9-dd1e-4d86-bf0c-4dfa4fef8a63",
   "metadata": {},
   "source": [
    "<h3>Insight: Most casualties happened in urban areas (543,824), while rural areas had much fewer (35,315). Cities have more accidents likely because they have more traffic and people.</h3>"
   ]
  },
  {
   "cell_type": "markdown",
   "id": "14ed4826-f741-4a5d-9b23-3ac3d0d78327",
   "metadata": {},
   "source": [
    "<h1>10.Which District Area has the highest number of accidents?</h1>"
   ]
  },
  {
   "cell_type": "code",
   "execution_count": 12,
   "id": "f5095ec7-c747-4d23-9ccc-65b7e30819dd",
   "metadata": {},
   "outputs": [
    {
     "data": {
      "text/plain": [
       "District Area\n",
       "Birmingham            13491\n",
       "Leeds                  8898\n",
       "Manchester             6720\n",
       "Bradford               6212\n",
       "Sheffield              5710\n",
       "                      ...  \n",
       "Berwick-upon-Tweed      153\n",
       "Teesdale                142\n",
       "Shetland Islands        133\n",
       "Orkney Islands          117\n",
       "Clackmannanshire         91\n",
       "Name: count, Length: 422, dtype: int64"
      ]
     },
     "execution_count": 12,
     "metadata": {},
     "output_type": "execute_result"
    }
   ],
   "source": [
    "roads_accident['District Area'].value_counts()"
   ]
  },
  {
   "cell_type": "markdown",
   "id": "2d84290c-d314-4e8c-b70e-8a87e1cd2c2c",
   "metadata": {},
   "source": [
    "<h3>Insight: Birmingham has the highest number of road accidents, with 13,491 recorded incidents. This suggests it may have heavier traffic, denser population, or more high-risk roads compared to other areas like Leeds (8,898) and Manchester (6,722).</h3>"
   ]
  },
  {
   "cell_type": "markdown",
   "id": "dde0635f-69da-4da5-afd9-cfa692ab4ee8",
   "metadata": {},
   "source": [
    "<h1>11.What is the average number of vehicles involved in accidents on different road types?</h1>"
   ]
  },
  {
   "cell_type": "code",
   "execution_count": 13,
   "id": "6f2246b2-52d4-4cd0-b580-6d03b1e274b5",
   "metadata": {},
   "outputs": [
    {
     "data": {
      "text/plain": [
       "Road_Type\n",
       "Dual carriageway      2.009766\n",
       "Slip road             1.917483\n",
       "Roundabout            1.901323\n",
       "Single carriageway    1.795911\n",
       "One way street        1.585441\n",
       "Name: Number_of_Vehicles, dtype: float64"
      ]
     },
     "execution_count": 13,
     "metadata": {},
     "output_type": "execute_result"
    }
   ],
   "source": [
    "roads_accident.groupby('Road_Type')['Number_of_Vehicles'].mean().sort_values(ascending=False)"
   ]
  },
  {
   "cell_type": "markdown",
   "id": "721e4765-725f-4cd2-8662-1a5db7b888ca",
   "metadata": {},
   "source": [
    "<h3>Insight: On average, accidents on dual carriageways involve the most vehicles, with 2.01 vehicles per accident. This is followed by slip roads (1.92) and roundabouts (1.90). Accidents on one-way streets involve the fewest vehicles on average (1.58), possibly due to more controlled traffic flow.</h3>"
   ]
  },
  {
   "cell_type": "markdown",
   "id": "9fcced47-aba9-4788-a150-35f76dec6a98",
   "metadata": {},
   "source": [
    "<h1>12.What is the most common Vehicle Type involved in Fatal accidents?</h1>"
   ]
  },
  {
   "cell_type": "code",
   "execution_count": 14,
   "id": "e759ede5-2c7f-4db5-b64c-3ca01862d6eb",
   "metadata": {},
   "outputs": [
    {
     "data": {
      "text/plain": [
       "Vehicle_Type\n",
       "Car                                      6577\n",
       "Van / Goods 3.5 tonnes mgw or under       467\n",
       "Motorcycle over 500cc                     339\n",
       "Bus or coach (17 or more pass seats)      325\n",
       "Goods 7.5 tonnes mgw and over             216\n",
       "Motorcycle 125cc and under                189\n",
       "Taxi/Private hire car                     155\n",
       "Motorcycle over 125cc and up to 500cc     105\n",
       "Motorcycle 50cc and under                  95\n",
       "Other vehicle                              70\n",
       "Goods over 3.5t. and under 7.5t            67\n",
       "Minibus (8 - 16 passenger seats)           29\n",
       "Agricultural vehicle                       21\n",
       "Pedal cycle                                 6\n",
       "Name: count, dtype: int64"
      ]
     },
     "execution_count": 14,
     "metadata": {},
     "output_type": "execute_result"
    }
   ],
   "source": [
    "fatal_accidents = roads_accident[roads_accident['Accident_Severity'] == 'Fatal']\n",
    "fatal_accidents['Vehicle_Type'].value_counts()"
   ]
  },
  {
   "cell_type": "markdown",
   "id": "8516c0a9-cee9-47a0-81c7-68bcaf436ce0",
   "metadata": {},
   "source": [
    "<h3>Insight: Cars are the most commonly involved vehicle type in fatal accidents, with 6,577 cases. This is far higher than any other type, with the next being vans (467) and motorcycles over 500cc (436). This reflects the high number of cars on the road, increasing their exposure to fatal incidents.</h3>"
   ]
  },
  {
   "cell_type": "markdown",
   "id": "1f9b793f-fa27-4c9b-a674-fc1466422875",
   "metadata": {},
   "source": [
    "<h1>13.Which 'District Area' has the highest average 'Number of Casualties'?</h1>"
   ]
  },
  {
   "cell_type": "code",
   "execution_count": 15,
   "id": "e8e86d8e-5fee-4293-a0f1-89bfb0e5b973",
   "metadata": {},
   "outputs": [
    {
     "data": {
      "text/plain": [
       "District Area\n",
       "Blaeu Gwent               1.693694\n",
       "West Somerset             1.613990\n",
       "Derwentside               1.606186\n",
       "Chester-le-Street         1.603306\n",
       "Durham                    1.580431\n",
       "                            ...   \n",
       "Kensington and Chelsea    1.136120\n",
       "Westminster               1.134069\n",
       "Camden                    1.132783\n",
       "Islington                 1.126082\n",
       "City of London            1.126044\n",
       "Name: Number_of_Casualties, Length: 422, dtype: float64"
      ]
     },
     "execution_count": 15,
     "metadata": {},
     "output_type": "execute_result"
    }
   ],
   "source": [
    "roads_accident.groupby('District Area')['Number_of_Casualties'].mean().sort_values(ascending=False)"
   ]
  },
  {
   "cell_type": "markdown",
   "id": "c9792cc6-c9a4-4519-a9fe-5c14390d4061",
   "metadata": {},
   "source": [
    "<h3>Insight: The district Blaenau Gwent has the highest average number of casualties per accident (1.69 casualties on average). Other districts like West Somerset and Derwentside also have higher averages, indicating that when accidents happen in these areas, they tend to be more severe in terms of injuries.</h3>"
   ]
  },
  {
   "cell_type": "markdown",
   "id": "6767b408-314c-478d-93e1-32c6014c9558",
   "metadata": {},
   "source": [
    "<h1>14.What is the most common Road Surface Conditions for Serious accidents?</h1>"
   ]
  },
  {
   "cell_type": "code",
   "execution_count": 16,
   "id": "926d7694-8ca9-4419-8025-27d7f9a3f70b",
   "metadata": {},
   "outputs": [
    {
     "data": {
      "text/plain": [
       "Road_Surface_Conditions\n",
       "Dry                     61638\n",
       "Wet or damp             23785\n",
       "Frost or ice             2007\n",
       "Snow                      565\n",
       "Flood over 3cm. deep      152\n",
       "Name: count, dtype: int64"
      ]
     },
     "execution_count": 16,
     "metadata": {},
     "output_type": "execute_result"
    }
   ],
   "source": [
    "serious_accidents = roads_accident[roads_accident['Accident_Severity'] == 'Serious']\n",
    "serious_accidents['Road_Surface_Conditions'].value_counts()"
   ]
  },
  {
   "cell_type": "markdown",
   "id": "28fe30bd-b957-4338-8541-3e8881653c57",
   "metadata": {},
   "source": [
    "<h3>Insight: The majority of serious accidents occur on dry roads, with 61,638 incidents. The next most common condition is wet or damp roads (23,785). This suggests that serious accidents aren't only caused by poor road conditions even good road conditions (dry) can still lead to serious outcomes, likely due to speed, driver behavior, or other factors.</h3>"
   ]
  },
  {
   "cell_type": "markdown",
   "id": "bd4b670a-666a-4160-84a0-1e6899a1610e",
   "metadata": {},
   "source": [
    "<h1>15.How does Light Conditions affect Accident Severity?</h1>"
   ]
  },
  {
   "cell_type": "code",
   "execution_count": 17,
   "id": "faa25c22-2ce0-493f-8a40-dee6e3ec56f9",
   "metadata": {},
   "outputs": [
    {
     "data": {
      "text/html": [
       "<div>\n",
       "<style scoped>\n",
       "    .dataframe tbody tr th:only-of-type {\n",
       "        vertical-align: middle;\n",
       "    }\n",
       "\n",
       "    .dataframe tbody tr th {\n",
       "        vertical-align: top;\n",
       "    }\n",
       "\n",
       "    .dataframe thead th {\n",
       "        text-align: right;\n",
       "    }\n",
       "</style>\n",
       "<table border=\"1\" class=\"dataframe\">\n",
       "  <thead>\n",
       "    <tr style=\"text-align: right;\">\n",
       "      <th>Accident_Severity</th>\n",
       "      <th>Fatal</th>\n",
       "      <th>Serious</th>\n",
       "      <th>Slight</th>\n",
       "    </tr>\n",
       "    <tr>\n",
       "      <th>Light_Conditions</th>\n",
       "      <th></th>\n",
       "      <th></th>\n",
       "      <th></th>\n",
       "    </tr>\n",
       "  </thead>\n",
       "  <tbody>\n",
       "    <tr>\n",
       "      <th>Darkness - lighting unknown</th>\n",
       "      <td>68</td>\n",
       "      <td>794</td>\n",
       "      <td>5622</td>\n",
       "    </tr>\n",
       "    <tr>\n",
       "      <th>Darkness - lights lit</th>\n",
       "      <td>1860</td>\n",
       "      <td>19130</td>\n",
       "      <td>108345</td>\n",
       "    </tr>\n",
       "    <tr>\n",
       "      <th>Darkness - lights unlit</th>\n",
       "      <td>45</td>\n",
       "      <td>360</td>\n",
       "      <td>2138</td>\n",
       "    </tr>\n",
       "    <tr>\n",
       "      <th>Darkness - no lighting</th>\n",
       "      <td>1612</td>\n",
       "      <td>7174</td>\n",
       "      <td>28651</td>\n",
       "    </tr>\n",
       "    <tr>\n",
       "      <th>Daylight</th>\n",
       "      <td>5076</td>\n",
       "      <td>60759</td>\n",
       "      <td>419045</td>\n",
       "    </tr>\n",
       "  </tbody>\n",
       "</table>\n",
       "</div>"
      ],
      "text/plain": [
       "Accident_Severity            Fatal  Serious  Slight\n",
       "Light_Conditions                                   \n",
       "Darkness - lighting unknown     68      794    5622\n",
       "Darkness - lights lit         1860    19130  108345\n",
       "Darkness - lights unlit         45      360    2138\n",
       "Darkness - no lighting        1612     7174   28651\n",
       "Daylight                      5076    60759  419045"
      ]
     },
     "execution_count": 17,
     "metadata": {},
     "output_type": "execute_result"
    }
   ],
   "source": [
    "roads_accident.groupby('Light_Conditions')['Accident_Severity'].value_counts().unstack().fillna(0)"
   ]
  },
  {
   "cell_type": "markdown",
   "id": "6cbf38e3-27fc-46c7-86bf-25edc11b9734",
   "metadata": {},
   "source": [
    "<h3>Insight: Most accidents happen during the day, including many fatal ones:\n",
    "\n",
    "\n",
    "5,076 fatal\n",
    "\n",
    "60,759 serious\n",
    "\n",
    "419,045 slight accidents.\n",
    "\n",
    "But when it’s dark and there’s no street lighting, the chance of fatal accidents is higher compared to other light conditions. This means poor lighting makes accidents more dangerous.</h3>"
   ]
  },
  {
   "cell_type": "markdown",
   "id": "e03b4a68-3b15-42e7-9921-6aa45a4cb54c",
   "metadata": {},
   "source": [
    "<h1>16.What is the most common Vehicle Type involved in accidents in Urban areas?</h1>"
   ]
  },
  {
   "cell_type": "code",
   "execution_count": 18,
   "id": "68755c10-194c-4d95-b579-191aa9fc92b1",
   "metadata": {},
   "outputs": [
    {
     "data": {
      "text/plain": [
       "Vehicle_Type\n",
       "Car                                      316053\n",
       "Van / Goods 3.5 tonnes mgw or under       22003\n",
       "Bus or coach (17 or more pass seats)      16850\n",
       "Motorcycle over 500cc                     16700\n",
       "Goods 7.5 tonnes mgw and over             11151\n",
       "Motorcycle 125cc and under                10246\n",
       "Taxi/Private hire car                      8612\n",
       "Motorcycle over 125cc and up to 500cc      4982\n",
       "Motorcycle 50cc and under                  4893\n",
       "Goods over 3.5t. and under 7.5t            3864\n",
       "Other vehicle                              3643\n",
       "Agricultural vehicle                       1272\n",
       "Minibus (8 - 16 passenger seats)           1258\n",
       "Pedal cycle                                 127\n",
       "Data missing or out of range                  6\n",
       "Ridden horse                                  3\n",
       "Name: count, dtype: int64"
      ]
     },
     "execution_count": 18,
     "metadata": {},
     "output_type": "execute_result"
    }
   ],
   "source": [
    "urban_accidents = roads_accident[roads_accident['Urban_or_Rural_Area'] == 'Urban']\n",
    "urban_accidents['Vehicle_Type'].value_counts()"
   ]
  },
  {
   "cell_type": "markdown",
   "id": "8b7fd9be-44c4-4c6c-9e54-77afbf9ab63d",
   "metadata": {},
   "source": [
    "<h3>Insight: The most common vehicle involved in accidents in urban areas is cars, with 316,053 accidents. Vans, buses/coaches, and motorcycles also appear frequently but in much smaller numbers compared to cars.</h3>"
   ]
  },
  {
   "cell_type": "markdown",
   "id": "f3588b1a-f74d-4041-ac48-1602e97c2d3a",
   "metadata": {},
   "source": [
    "<h1>17.Are there any specific Vehicle Type and Weather Conditions combinations that are more prone to accidents?</h1>"
   ]
  },
  {
   "cell_type": "code",
   "execution_count": 19,
   "id": "1089f574-5fb2-4dcf-ab08-dcca41ee851c",
   "metadata": {},
   "outputs": [
    {
     "data": {
      "text/plain": [
       "Vehicle_Type                          Weather_Conditions   \n",
       "Car                                   Fine no high winds       392668\n",
       "                                      Raining no high winds     59940\n",
       "Van / Goods 3.5 tonnes mgw or under   Fine no high winds        26877\n",
       "Bus or coach (17 or more pass seats)  Fine no high winds        20398\n",
       "Motorcycle over 500cc                 Fine no high winds        20245\n",
       "                                                                ...  \n",
       "Minibus (8 - 16 passenger seats)      Snowing + high winds          2\n",
       "Pedal cycle                           Other                         2\n",
       "Data missing or out of range          Fine + high winds             1\n",
       "Pedal cycle                           Fine + high winds             1\n",
       "Ridden horse                          Raining no high winds         1\n",
       "Length: 115, dtype: int64"
      ]
     },
     "execution_count": 19,
     "metadata": {},
     "output_type": "execute_result"
    }
   ],
   "source": [
    "roads_accident.groupby(['Vehicle_Type', 'Weather_Conditions']).size().sort_values(ascending=False)"
   ]
  },
  {
   "cell_type": "markdown",
   "id": "3d6fc58a-a810-4360-a89d-a90b36c6f900",
   "metadata": {},
   "source": [
    "<h3>Insight: The most common combination for accidents is cars in fine weather with no high winds, with 392,668 accidents. This suggests that most accidents happen in good weather conditions, possibly because more vehicles are on the road.</h3>"
   ]
  },
  {
   "cell_type": "markdown",
   "id": "cc0e4127-ef02-4507-9bcb-aaceab95b003",
   "metadata": {},
   "source": [
    "<h1>18.What is the distribution of Accident Severity for accidents on Single carriageway?</h1>"
   ]
  },
  {
   "cell_type": "code",
   "execution_count": 20,
   "id": "d1febb6b-a3a3-47bd-b775-58ac35e96eef",
   "metadata": {},
   "outputs": [
    {
     "data": {
      "text/plain": [
       "Accident_Severity\n",
       "Slight     415557\n",
       "Serious     70059\n",
       "Fatal        6527\n",
       "Name: count, dtype: int64"
      ]
     },
     "execution_count": 20,
     "metadata": {},
     "output_type": "execute_result"
    }
   ],
   "source": [
    "single_carriageway_accidents = roads_accident[roads_accident['Road_Type'] == 'Single carriageway']\n",
    "single_carriageway_accidents['Accident_Severity'].value_counts()"
   ]
  },
  {
   "cell_type": "markdown",
   "id": "19fb7f42-a49d-4528-872e-8070c5d4eef2",
   "metadata": {},
   "source": [
    "<h3>Insight: For single carriageway roads:\n",
    "\n",
    "Slight accidents are the most common with 415,557 cases.\n",
    "\n",
    "Serious accidents total 70,059.\n",
    "\n",
    "Fatal accidents are fewer, with 6,527 cases.</h3>"
   ]
  },
  {
   "cell_type": "markdown",
   "id": "5a9a39e0-87d9-4aed-983a-ce1b8c018e61",
   "metadata": {},
   "source": [
    "<H1>For Insight No. 19 and 20</H1>"
   ]
  },
  {
   "cell_type": "code",
   "execution_count": 21,
   "id": "577f40c5-f56d-49dd-aeec-6df483cfa7b7",
   "metadata": {},
   "outputs": [
    {
     "data": {
      "text/html": [
       "<div>\n",
       "<style scoped>\n",
       "    .dataframe tbody tr th:only-of-type {\n",
       "        vertical-align: middle;\n",
       "    }\n",
       "\n",
       "    .dataframe tbody tr th {\n",
       "        vertical-align: top;\n",
       "    }\n",
       "\n",
       "    .dataframe thead th {\n",
       "        text-align: right;\n",
       "    }\n",
       "</style>\n",
       "<table border=\"1\" class=\"dataframe\">\n",
       "  <thead>\n",
       "    <tr style=\"text-align: right;\">\n",
       "      <th>Road_Surface_Conditions</th>\n",
       "      <th>Dry</th>\n",
       "      <th>Flood over 3cm. deep</th>\n",
       "      <th>Frost or ice</th>\n",
       "      <th>Snow</th>\n",
       "      <th>Wet or damp</th>\n",
       "    </tr>\n",
       "    <tr>\n",
       "      <th>Accident_Severity</th>\n",
       "      <th></th>\n",
       "      <th></th>\n",
       "      <th></th>\n",
       "      <th></th>\n",
       "      <th></th>\n",
       "    </tr>\n",
       "  </thead>\n",
       "  <tbody>\n",
       "    <tr>\n",
       "      <th>Fatal</th>\n",
       "      <td>5788</td>\n",
       "      <td>23</td>\n",
       "      <td>193</td>\n",
       "      <td>35</td>\n",
       "      <td>2620</td>\n",
       "    </tr>\n",
       "    <tr>\n",
       "      <th>Serious</th>\n",
       "      <td>61638</td>\n",
       "      <td>152</td>\n",
       "      <td>2007</td>\n",
       "      <td>565</td>\n",
       "      <td>23785</td>\n",
       "    </tr>\n",
       "    <tr>\n",
       "      <th>Slight</th>\n",
       "      <td>380395</td>\n",
       "      <td>842</td>\n",
       "      <td>16317</td>\n",
       "      <td>5290</td>\n",
       "      <td>160303</td>\n",
       "    </tr>\n",
       "  </tbody>\n",
       "</table>\n",
       "</div>"
      ],
      "text/plain": [
       "Road_Surface_Conditions     Dry  Flood over 3cm. deep  Frost or ice  Snow  \\\n",
       "Accident_Severity                                                           \n",
       "Fatal                      5788                    23           193    35   \n",
       "Serious                   61638                   152          2007   565   \n",
       "Slight                   380395                   842         16317  5290   \n",
       "\n",
       "Road_Surface_Conditions  Wet or damp  \n",
       "Accident_Severity                     \n",
       "Fatal                           2620  \n",
       "Serious                        23785  \n",
       "Slight                        160303  "
      ]
     },
     "execution_count": 21,
     "metadata": {},
     "output_type": "execute_result"
    }
   ],
   "source": [
    "severity_weather_road = roads_accident.groupby(['Accident_Severity', 'Road_Surface_Conditions'],observed=False).size()\n",
    "severity_weather_road.unstack()"
   ]
  },
  {
   "cell_type": "markdown",
   "id": "8d6e4925-c913-43ed-8585-834ba72313c2",
   "metadata": {},
   "source": [
    "<h3>Insight:\n",
    "\n",
    "19. Most accidents happen on dry roads, with the highest number of slight accidents (380,395), serious accidents (61,638), and fatal accidents (5,788). This shows that dry conditions still see many accidents, likely due to higher traffic volumes.\n",
    "20. Wet or damp roads lead to a significant number of serious accidents (23,785) and fatal accidents (2,620), highlighting that slippery surfaces increase the risk of more severe crashes compared to conditions like snow or flooding.</h3>"
   ]
  },
  {
   "cell_type": "markdown",
   "id": "1a737218-3c8a-41c6-9415-74e77744213d",
   "metadata": {},
   "source": [
    "<h1>Discussion</h1>\n",
    "<h3>Adjusting Data Types</h3>\n",
    "<hr>"
   ]
  },
  {
   "cell_type": "code",
   "execution_count": 22,
   "id": "ff332769-3fc8-48e8-9666-c291e433e591",
   "metadata": {},
   "outputs": [
    {
     "data": {
      "text/plain": [
       "Index                              object\n",
       "Accident_Severity                  object\n",
       "Accident Date                      object\n",
       "Latitude                          float64\n",
       "Light_Conditions                   object\n",
       "District Area                      object\n",
       "Longitude                         float64\n",
       "Number_of_Casualties                int64\n",
       "Number_of_Vehicles                  int64\n",
       "Road_Surface_Conditions            object\n",
       "Road_Type                          object\n",
       "Urban_or_Rural_Area                object\n",
       "Weather_Conditions                 object\n",
       "Vehicle_Type                       object\n",
       "Accident_Date              datetime64[ns]\n",
       "Year                              float64\n",
       "Day_of_Week                        object\n",
       "dtype: object"
      ]
     },
     "execution_count": 22,
     "metadata": {},
     "output_type": "execute_result"
    }
   ],
   "source": [
    "roads_accident.dtypes"
   ]
  },
  {
   "cell_type": "markdown",
   "id": "d67747b7-7a4e-478f-9722-d5471aac63fe",
   "metadata": {},
   "source": [
    "<h1>Extracting date information using pandas date time</h1>"
   ]
  },
  {
   "cell_type": "code",
   "execution_count": 34,
   "id": "74e2965b-fe15-4d38-91e1-53b88b65e26d",
   "metadata": {},
   "outputs": [
    {
     "data": {
      "text/plain": [
       "Accident Date\n",
       "2021-02-11    685\n",
       "2021-10-06    680\n",
       "2019-12-06    678\n",
       "2019-02-01    676\n",
       "2021-12-04    667\n",
       "             ... \n",
       "2022-01-09    236\n",
       "2022-12-02    236\n",
       "2022-04-05    231\n",
       "2022-02-07    213\n",
       "2022-01-10    123\n",
       "Name: count, Length: 576, dtype: int64"
      ]
     },
     "execution_count": 34,
     "metadata": {},
     "output_type": "execute_result"
    }
   ],
   "source": [
    "roads_accident['Accident Date'] = pd.to_datetime(roads_accident['Accident Date'],dayfirst = True, errors = 'coerce')\n",
    "roads_accident['Year'] = roads_accident ['Accident Date'].dt.year\n",
    "roads_accident['Month'] = roads_accident ['Accident Date'].dt.month\n",
    "roads_accident['Day'] = roads_accident['Accident Date'].dt.day\n",
    "roads_accident['DayOfWeek'] = roads_accident['Accident Date'].dt.dayofweek\n",
    "roads_accident['Accident Date'].value_counts()"
   ]
  },
  {
   "cell_type": "code",
   "execution_count": 25,
   "id": "722cf9be-4640-4d0e-8340-fa814debc693",
   "metadata": {},
   "outputs": [
    {
     "data": {
      "text/plain": [
       "Index                           0\n",
       "Accident_Severity               0\n",
       "Accident Date              395672\n",
       "Latitude                       25\n",
       "Light_Conditions                0\n",
       "District Area                   0\n",
       "Longitude                      26\n",
       "Number_of_Casualties            0\n",
       "Number_of_Vehicles              0\n",
       "Road_Surface_Conditions       726\n",
       "Road_Type                    4520\n",
       "Urban_or_Rural_Area            15\n",
       "Weather_Conditions          14128\n",
       "Vehicle_Type                    0\n",
       "Accident_Date              395672\n",
       "Year                            0\n",
       "Day_of_Week                395672\n",
       "dtype: int64"
      ]
     },
     "execution_count": 25,
     "metadata": {},
     "output_type": "execute_result"
    }
   ],
   "source": [
    "roads_accident.isnull().sum()"
   ]
  },
  {
   "cell_type": "code",
   "execution_count": null,
   "id": "5d50cc10-d6e1-46d6-ac1f-152d450e9119",
   "metadata": {},
   "outputs": [],
   "source": []
  }
 ],
 "metadata": {
  "kernelspec": {
   "display_name": "Python 3 (ipykernel)",
   "language": "python",
   "name": "python3"
  },
  "language_info": {
   "codemirror_mode": {
    "name": "ipython",
    "version": 3
   },
   "file_extension": ".py",
   "mimetype": "text/x-python",
   "name": "python",
   "nbconvert_exporter": "python",
   "pygments_lexer": "ipython3",
   "version": "3.11.3"
  }
 },
 "nbformat": 4,
 "nbformat_minor": 5
}
